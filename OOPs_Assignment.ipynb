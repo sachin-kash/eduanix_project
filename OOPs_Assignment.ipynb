{
  "nbformat": 4,
  "nbformat_minor": 0,
  "metadata": {
    "colab": {
      "provenance": []
    },
    "kernelspec": {
      "name": "python3",
      "display_name": "Python 3"
    },
    "language_info": {
      "name": "python"
    }
  },
  "cells": [
    {
      "cell_type": "code",
      "execution_count": null,
      "metadata": {
        "id": "kA_Yp4D3baxg"
      },
      "outputs": [],
      "source": [
        "\n"
      ]
    },
    {
      "cell_type": "markdown",
      "source": [
        "Problem OOps\n",
        "1. Go step by step:\n",
        "A. Create a class named (Car)\n",
        "B. Call constructor\n",
        "C. Create 3 attributes under that (name, price, colour)\n",
        "D. Create 3 functions - 1. sound 2. speed 3. display (to display 1 and 2 functions)\n",
        "E. Create a child class named (Thar) and inherite Car\n",
        "F. Create two objects under that child class and access the functions for them"
      ],
      "metadata": {
        "id": "zv4P3d6KmixB"
      }
    },
    {
      "cell_type": "code",
      "source": [
        "class Car():\n",
        "  def __init__(self,name, price, colour):\n",
        "    self.name = name\n",
        "    self.price = price\n",
        "    self.colour = colour\n",
        "  def sound(self):\n",
        "    print(\"Below the horn\")\n",
        "  def speed(self):\n",
        "    print(\"show car speed\")\n",
        "  def display(self):\n",
        "    print(\"show Display\")\n",
        "class Thar(Car):\n",
        "  pass\n",
        "  # please help me how to proceed next\n",
        "\n",
        "\n",
        "  # Problem: Try and Except\n",
        "  # Create an Except where we can catch all the \"Zero division error\" (you can customize your print statements)\n",
        "\n",
        "\n",
        "\n",
        "\n",
        "\n",
        "\n",
        "\n",
        "\n",
        "\n",
        "\n",
        "\n"
      ],
      "metadata": {
        "id": "qTZDv-G8nuJg"
      },
      "execution_count": 8,
      "outputs": []
    },
    {
      "cell_type": "code",
      "source": [
        "def divide(a1, b1):\n",
        "  try:\n",
        "    return a1/b1\n",
        "  except ZeroDivisionError:\n",
        "     print(\"You are dividing by zero\")\n",
        "\n",
        "print(divide(4,0))"
      ],
      "metadata": {
        "id": "yd6ltI7VLdd-",
        "colab": {
          "base_uri": "https://localhost:8080/"
        },
        "outputId": "de81f10b-d134-49e2-b73c-f2aa8e02582e"
      },
      "execution_count": 11,
      "outputs": [
        {
          "output_type": "stream",
          "name": "stdout",
          "text": [
            "You are dividing by zero\n",
            "None\n"
          ]
        }
      ]
    },
    {
      "cell_type": "code",
      "source": [],
      "metadata": {
        "id": "AOZwdzNbnY01"
      },
      "execution_count": null,
      "outputs": []
    }
  ]
}